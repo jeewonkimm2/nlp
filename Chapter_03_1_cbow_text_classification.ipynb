{
  "cells": [
    {
      "cell_type": "markdown",
      "id": "e21135b9",
      "metadata": {
        "id": "e21135b9"
      },
      "source": [
        "# CBOW text classification"
      ]
    },
    {
      "cell_type": "markdown",
      "id": "ab4a016e",
      "metadata": {
        "id": "ab4a016e"
      },
      "source": [
        "# NSMC 데이터 확인\n",
        "\n",
        "- NSMC 데이터란? \n",
        "  - Naver sentiment movie corpus v1.0\n",
        "  - 네이버 영화 댓글 감성 분석 데이터셋\n",
        "  - 이진 분류 문제 0 or 1, positive or negative\n",
        "- https://github.com/e9t/nsmc"
      ]
    },
    {
      "cell_type": "code",
      "source": [
        "from google.colab import drive\n",
        "drive.mount('/content/drive')"
      ],
      "metadata": {
        "colab": {
          "base_uri": "https://localhost:8080/"
        },
        "id": "A2VLcajZhGHT",
        "outputId": "90955795-df18-4641-d18e-b4a4038aa3d9"
      },
      "id": "A2VLcajZhGHT",
      "execution_count": 1,
      "outputs": [
        {
          "output_type": "stream",
          "name": "stdout",
          "text": [
            "Mounted at /content/drive\n"
          ]
        }
      ]
    },
    {
      "cell_type": "code",
      "source": [
        "base_path = \"/content/drive/MyDrive/nlp\""
      ],
      "metadata": {
        "id": "2C68ollNhM9x"
      },
      "id": "2C68ollNhM9x",
      "execution_count": 2,
      "outputs": []
    },
    {
      "cell_type": "code",
      "execution_count": 3,
      "id": "1250cbf8",
      "metadata": {
        "id": "1250cbf8"
      },
      "outputs": [],
      "source": [
        "import pandas as pd"
      ]
    },
    {
      "cell_type": "code",
      "execution_count": 4,
      "id": "896ed810",
      "metadata": {
        "id": "896ed810"
      },
      "outputs": [],
      "source": [
        "df = pd.read_csv(f\"{base_path}/data/nsmc/ratings_train.txt\", sep='\\t')"
      ]
    },
    {
      "cell_type": "code",
      "execution_count": 5,
      "id": "71ca38b5",
      "metadata": {
        "colab": {
          "base_uri": "https://localhost:8080/",
          "height": 206
        },
        "id": "71ca38b5",
        "outputId": "b787f848-d9a1-4e67-f327-6232788cb044"
      },
      "outputs": [
        {
          "output_type": "execute_result",
          "data": {
            "text/plain": [
              "         id                                           document  label\n",
              "0   9976970                                아 더빙.. 진짜 짜증나네요 목소리      0\n",
              "1   3819312                  흠...포스터보고 초딩영화줄....오버연기조차 가볍지 않구나      1\n",
              "2  10265843                                  너무재밓었다그래서보는것을추천한다      0\n",
              "3   9045019                      교도소 이야기구먼 ..솔직히 재미는 없다..평점 조정      0\n",
              "4   6483659  사이몬페그의 익살스런 연기가 돋보였던 영화!스파이더맨에서 늙어보이기만 했던 커스틴 ...      1"
            ],
            "text/html": [
              "\n",
              "  <div id=\"df-fadaa328-7b7e-4db3-ae1e-1c01b1007e92\">\n",
              "    <div class=\"colab-df-container\">\n",
              "      <div>\n",
              "<style scoped>\n",
              "    .dataframe tbody tr th:only-of-type {\n",
              "        vertical-align: middle;\n",
              "    }\n",
              "\n",
              "    .dataframe tbody tr th {\n",
              "        vertical-align: top;\n",
              "    }\n",
              "\n",
              "    .dataframe thead th {\n",
              "        text-align: right;\n",
              "    }\n",
              "</style>\n",
              "<table border=\"1\" class=\"dataframe\">\n",
              "  <thead>\n",
              "    <tr style=\"text-align: right;\">\n",
              "      <th></th>\n",
              "      <th>id</th>\n",
              "      <th>document</th>\n",
              "      <th>label</th>\n",
              "    </tr>\n",
              "  </thead>\n",
              "  <tbody>\n",
              "    <tr>\n",
              "      <th>0</th>\n",
              "      <td>9976970</td>\n",
              "      <td>아 더빙.. 진짜 짜증나네요 목소리</td>\n",
              "      <td>0</td>\n",
              "    </tr>\n",
              "    <tr>\n",
              "      <th>1</th>\n",
              "      <td>3819312</td>\n",
              "      <td>흠...포스터보고 초딩영화줄....오버연기조차 가볍지 않구나</td>\n",
              "      <td>1</td>\n",
              "    </tr>\n",
              "    <tr>\n",
              "      <th>2</th>\n",
              "      <td>10265843</td>\n",
              "      <td>너무재밓었다그래서보는것을추천한다</td>\n",
              "      <td>0</td>\n",
              "    </tr>\n",
              "    <tr>\n",
              "      <th>3</th>\n",
              "      <td>9045019</td>\n",
              "      <td>교도소 이야기구먼 ..솔직히 재미는 없다..평점 조정</td>\n",
              "      <td>0</td>\n",
              "    </tr>\n",
              "    <tr>\n",
              "      <th>4</th>\n",
              "      <td>6483659</td>\n",
              "      <td>사이몬페그의 익살스런 연기가 돋보였던 영화!스파이더맨에서 늙어보이기만 했던 커스틴 ...</td>\n",
              "      <td>1</td>\n",
              "    </tr>\n",
              "  </tbody>\n",
              "</table>\n",
              "</div>\n",
              "      <button class=\"colab-df-convert\" onclick=\"convertToInteractive('df-fadaa328-7b7e-4db3-ae1e-1c01b1007e92')\"\n",
              "              title=\"Convert this dataframe to an interactive table.\"\n",
              "              style=\"display:none;\">\n",
              "        \n",
              "  <svg xmlns=\"http://www.w3.org/2000/svg\" height=\"24px\"viewBox=\"0 0 24 24\"\n",
              "       width=\"24px\">\n",
              "    <path d=\"M0 0h24v24H0V0z\" fill=\"none\"/>\n",
              "    <path d=\"M18.56 5.44l.94 2.06.94-2.06 2.06-.94-2.06-.94-.94-2.06-.94 2.06-2.06.94zm-11 1L8.5 8.5l.94-2.06 2.06-.94-2.06-.94L8.5 2.5l-.94 2.06-2.06.94zm10 10l.94 2.06.94-2.06 2.06-.94-2.06-.94-.94-2.06-.94 2.06-2.06.94z\"/><path d=\"M17.41 7.96l-1.37-1.37c-.4-.4-.92-.59-1.43-.59-.52 0-1.04.2-1.43.59L10.3 9.45l-7.72 7.72c-.78.78-.78 2.05 0 2.83L4 21.41c.39.39.9.59 1.41.59.51 0 1.02-.2 1.41-.59l7.78-7.78 2.81-2.81c.8-.78.8-2.07 0-2.86zM5.41 20L4 18.59l7.72-7.72 1.47 1.35L5.41 20z\"/>\n",
              "  </svg>\n",
              "      </button>\n",
              "      \n",
              "  <style>\n",
              "    .colab-df-container {\n",
              "      display:flex;\n",
              "      flex-wrap:wrap;\n",
              "      gap: 12px;\n",
              "    }\n",
              "\n",
              "    .colab-df-convert {\n",
              "      background-color: #E8F0FE;\n",
              "      border: none;\n",
              "      border-radius: 50%;\n",
              "      cursor: pointer;\n",
              "      display: none;\n",
              "      fill: #1967D2;\n",
              "      height: 32px;\n",
              "      padding: 0 0 0 0;\n",
              "      width: 32px;\n",
              "    }\n",
              "\n",
              "    .colab-df-convert:hover {\n",
              "      background-color: #E2EBFA;\n",
              "      box-shadow: 0px 1px 2px rgba(60, 64, 67, 0.3), 0px 1px 3px 1px rgba(60, 64, 67, 0.15);\n",
              "      fill: #174EA6;\n",
              "    }\n",
              "\n",
              "    [theme=dark] .colab-df-convert {\n",
              "      background-color: #3B4455;\n",
              "      fill: #D2E3FC;\n",
              "    }\n",
              "\n",
              "    [theme=dark] .colab-df-convert:hover {\n",
              "      background-color: #434B5C;\n",
              "      box-shadow: 0px 1px 3px 1px rgba(0, 0, 0, 0.15);\n",
              "      filter: drop-shadow(0px 1px 2px rgba(0, 0, 0, 0.3));\n",
              "      fill: #FFFFFF;\n",
              "    }\n",
              "  </style>\n",
              "\n",
              "      <script>\n",
              "        const buttonEl =\n",
              "          document.querySelector('#df-fadaa328-7b7e-4db3-ae1e-1c01b1007e92 button.colab-df-convert');\n",
              "        buttonEl.style.display =\n",
              "          google.colab.kernel.accessAllowed ? 'block' : 'none';\n",
              "\n",
              "        async function convertToInteractive(key) {\n",
              "          const element = document.querySelector('#df-fadaa328-7b7e-4db3-ae1e-1c01b1007e92');\n",
              "          const dataTable =\n",
              "            await google.colab.kernel.invokeFunction('convertToInteractive',\n",
              "                                                     [key], {});\n",
              "          if (!dataTable) return;\n",
              "\n",
              "          const docLinkHtml = 'Like what you see? Visit the ' +\n",
              "            '<a target=\"_blank\" href=https://colab.research.google.com/notebooks/data_table.ipynb>data table notebook</a>'\n",
              "            + ' to learn more about interactive tables.';\n",
              "          element.innerHTML = '';\n",
              "          dataTable['output_type'] = 'display_data';\n",
              "          await google.colab.output.renderOutput(dataTable, element);\n",
              "          const docLink = document.createElement('div');\n",
              "          docLink.innerHTML = docLinkHtml;\n",
              "          element.appendChild(docLink);\n",
              "        }\n",
              "      </script>\n",
              "    </div>\n",
              "  </div>\n",
              "  "
            ]
          },
          "metadata": {},
          "execution_count": 5
        }
      ],
      "source": [
        "df.head()"
      ]
    },
    {
      "cell_type": "code",
      "execution_count": 6,
      "id": "63e09301",
      "metadata": {
        "colab": {
          "base_uri": "https://localhost:8080/"
        },
        "id": "63e09301",
        "outputId": "a02d252b-bfd5-4457-c645-7736186ad103"
      },
      "outputs": [
        {
          "output_type": "execute_result",
          "data": {
            "text/plain": [
              "0    75173\n",
              "1    74827\n",
              "Name: label, dtype: int64"
            ]
          },
          "metadata": {},
          "execution_count": 6
        }
      ],
      "source": [
        "# pos, neg 비율\n",
        "df['label'].value_counts()"
      ]
    },
    {
      "cell_type": "markdown",
      "id": "5e6967d5",
      "metadata": {
        "id": "5e6967d5"
      },
      "source": [
        "## Missing 데이터 확인"
      ]
    },
    {
      "cell_type": "code",
      "source": [
        "sum(df['document'].isnull())"
      ],
      "metadata": {
        "id": "LNXeA8PHda_E",
        "outputId": "4e3648ef-e272-47fe-b05e-94a7b84fb282",
        "colab": {
          "base_uri": "https://localhost:8080/"
        }
      },
      "id": "LNXeA8PHda_E",
      "execution_count": 7,
      "outputs": [
        {
          "output_type": "execute_result",
          "data": {
            "text/plain": [
              "5"
            ]
          },
          "metadata": {},
          "execution_count": 7
        }
      ]
    },
    {
      "cell_type": "code",
      "source": [
        "# 공백 제거\n",
        "df = df[~df['document'].isnull()]"
      ],
      "metadata": {
        "id": "ddKrSWSrdkl-"
      },
      "id": "ddKrSWSrdkl-",
      "execution_count": 8,
      "outputs": []
    },
    {
      "cell_type": "code",
      "source": [
        "sum(df['document'].isnull())"
      ],
      "metadata": {
        "id": "s5u8haoIdnku",
        "outputId": "144c7fc9-99bd-4886-b90b-1a59c665d138",
        "colab": {
          "base_uri": "https://localhost:8080/"
        }
      },
      "id": "s5u8haoIdnku",
      "execution_count": 9,
      "outputs": [
        {
          "output_type": "execute_result",
          "data": {
            "text/plain": [
              "0"
            ]
          },
          "metadata": {},
          "execution_count": 9
        }
      ]
    },
    {
      "cell_type": "code",
      "source": [
        "df"
      ],
      "metadata": {
        "id": "yq1Gu1wcdqFw",
        "outputId": "ea732af9-9980-4449-efda-45af982bbcc7",
        "colab": {
          "base_uri": "https://localhost:8080/",
          "height": 423
        }
      },
      "id": "yq1Gu1wcdqFw",
      "execution_count": 10,
      "outputs": [
        {
          "output_type": "execute_result",
          "data": {
            "text/plain": [
              "              id                                           document  label\n",
              "0        9976970                                아 더빙.. 진짜 짜증나네요 목소리      0\n",
              "1        3819312                  흠...포스터보고 초딩영화줄....오버연기조차 가볍지 않구나      1\n",
              "2       10265843                                  너무재밓었다그래서보는것을추천한다      0\n",
              "3        9045019                      교도소 이야기구먼 ..솔직히 재미는 없다..평점 조정      0\n",
              "4        6483659  사이몬페그의 익살스런 연기가 돋보였던 영화!스파이더맨에서 늙어보이기만 했던 커스틴 ...      1\n",
              "...          ...                                                ...    ...\n",
              "149995   6222902                                인간이 문제지.. 소는 뭔죄인가..      0\n",
              "149996   8549745                                      평점이 너무 낮아서...      1\n",
              "149997   9311800                    이게 뭐요? 한국인은 거들먹거리고 필리핀 혼혈은 착하다?      0\n",
              "149998   2376369                        청춘 영화의 최고봉.방황과 우울했던 날들의 자화상      1\n",
              "149999   9619869                           한국 영화 최초로 수간하는 내용이 담긴 영화      0\n",
              "\n",
              "[149995 rows x 3 columns]"
            ],
            "text/html": [
              "\n",
              "  <div id=\"df-94b289dd-c818-4af4-a792-71c048d507a4\">\n",
              "    <div class=\"colab-df-container\">\n",
              "      <div>\n",
              "<style scoped>\n",
              "    .dataframe tbody tr th:only-of-type {\n",
              "        vertical-align: middle;\n",
              "    }\n",
              "\n",
              "    .dataframe tbody tr th {\n",
              "        vertical-align: top;\n",
              "    }\n",
              "\n",
              "    .dataframe thead th {\n",
              "        text-align: right;\n",
              "    }\n",
              "</style>\n",
              "<table border=\"1\" class=\"dataframe\">\n",
              "  <thead>\n",
              "    <tr style=\"text-align: right;\">\n",
              "      <th></th>\n",
              "      <th>id</th>\n",
              "      <th>document</th>\n",
              "      <th>label</th>\n",
              "    </tr>\n",
              "  </thead>\n",
              "  <tbody>\n",
              "    <tr>\n",
              "      <th>0</th>\n",
              "      <td>9976970</td>\n",
              "      <td>아 더빙.. 진짜 짜증나네요 목소리</td>\n",
              "      <td>0</td>\n",
              "    </tr>\n",
              "    <tr>\n",
              "      <th>1</th>\n",
              "      <td>3819312</td>\n",
              "      <td>흠...포스터보고 초딩영화줄....오버연기조차 가볍지 않구나</td>\n",
              "      <td>1</td>\n",
              "    </tr>\n",
              "    <tr>\n",
              "      <th>2</th>\n",
              "      <td>10265843</td>\n",
              "      <td>너무재밓었다그래서보는것을추천한다</td>\n",
              "      <td>0</td>\n",
              "    </tr>\n",
              "    <tr>\n",
              "      <th>3</th>\n",
              "      <td>9045019</td>\n",
              "      <td>교도소 이야기구먼 ..솔직히 재미는 없다..평점 조정</td>\n",
              "      <td>0</td>\n",
              "    </tr>\n",
              "    <tr>\n",
              "      <th>4</th>\n",
              "      <td>6483659</td>\n",
              "      <td>사이몬페그의 익살스런 연기가 돋보였던 영화!스파이더맨에서 늙어보이기만 했던 커스틴 ...</td>\n",
              "      <td>1</td>\n",
              "    </tr>\n",
              "    <tr>\n",
              "      <th>...</th>\n",
              "      <td>...</td>\n",
              "      <td>...</td>\n",
              "      <td>...</td>\n",
              "    </tr>\n",
              "    <tr>\n",
              "      <th>149995</th>\n",
              "      <td>6222902</td>\n",
              "      <td>인간이 문제지.. 소는 뭔죄인가..</td>\n",
              "      <td>0</td>\n",
              "    </tr>\n",
              "    <tr>\n",
              "      <th>149996</th>\n",
              "      <td>8549745</td>\n",
              "      <td>평점이 너무 낮아서...</td>\n",
              "      <td>1</td>\n",
              "    </tr>\n",
              "    <tr>\n",
              "      <th>149997</th>\n",
              "      <td>9311800</td>\n",
              "      <td>이게 뭐요? 한국인은 거들먹거리고 필리핀 혼혈은 착하다?</td>\n",
              "      <td>0</td>\n",
              "    </tr>\n",
              "    <tr>\n",
              "      <th>149998</th>\n",
              "      <td>2376369</td>\n",
              "      <td>청춘 영화의 최고봉.방황과 우울했던 날들의 자화상</td>\n",
              "      <td>1</td>\n",
              "    </tr>\n",
              "    <tr>\n",
              "      <th>149999</th>\n",
              "      <td>9619869</td>\n",
              "      <td>한국 영화 최초로 수간하는 내용이 담긴 영화</td>\n",
              "      <td>0</td>\n",
              "    </tr>\n",
              "  </tbody>\n",
              "</table>\n",
              "<p>149995 rows × 3 columns</p>\n",
              "</div>\n",
              "      <button class=\"colab-df-convert\" onclick=\"convertToInteractive('df-94b289dd-c818-4af4-a792-71c048d507a4')\"\n",
              "              title=\"Convert this dataframe to an interactive table.\"\n",
              "              style=\"display:none;\">\n",
              "        \n",
              "  <svg xmlns=\"http://www.w3.org/2000/svg\" height=\"24px\"viewBox=\"0 0 24 24\"\n",
              "       width=\"24px\">\n",
              "    <path d=\"M0 0h24v24H0V0z\" fill=\"none\"/>\n",
              "    <path d=\"M18.56 5.44l.94 2.06.94-2.06 2.06-.94-2.06-.94-.94-2.06-.94 2.06-2.06.94zm-11 1L8.5 8.5l.94-2.06 2.06-.94-2.06-.94L8.5 2.5l-.94 2.06-2.06.94zm10 10l.94 2.06.94-2.06 2.06-.94-2.06-.94-.94-2.06-.94 2.06-2.06.94z\"/><path d=\"M17.41 7.96l-1.37-1.37c-.4-.4-.92-.59-1.43-.59-.52 0-1.04.2-1.43.59L10.3 9.45l-7.72 7.72c-.78.78-.78 2.05 0 2.83L4 21.41c.39.39.9.59 1.41.59.51 0 1.02-.2 1.41-.59l7.78-7.78 2.81-2.81c.8-.78.8-2.07 0-2.86zM5.41 20L4 18.59l7.72-7.72 1.47 1.35L5.41 20z\"/>\n",
              "  </svg>\n",
              "      </button>\n",
              "      \n",
              "  <style>\n",
              "    .colab-df-container {\n",
              "      display:flex;\n",
              "      flex-wrap:wrap;\n",
              "      gap: 12px;\n",
              "    }\n",
              "\n",
              "    .colab-df-convert {\n",
              "      background-color: #E8F0FE;\n",
              "      border: none;\n",
              "      border-radius: 50%;\n",
              "      cursor: pointer;\n",
              "      display: none;\n",
              "      fill: #1967D2;\n",
              "      height: 32px;\n",
              "      padding: 0 0 0 0;\n",
              "      width: 32px;\n",
              "    }\n",
              "\n",
              "    .colab-df-convert:hover {\n",
              "      background-color: #E2EBFA;\n",
              "      box-shadow: 0px 1px 2px rgba(60, 64, 67, 0.3), 0px 1px 3px 1px rgba(60, 64, 67, 0.15);\n",
              "      fill: #174EA6;\n",
              "    }\n",
              "\n",
              "    [theme=dark] .colab-df-convert {\n",
              "      background-color: #3B4455;\n",
              "      fill: #D2E3FC;\n",
              "    }\n",
              "\n",
              "    [theme=dark] .colab-df-convert:hover {\n",
              "      background-color: #434B5C;\n",
              "      box-shadow: 0px 1px 3px 1px rgba(0, 0, 0, 0.15);\n",
              "      filter: drop-shadow(0px 1px 2px rgba(0, 0, 0, 0.3));\n",
              "      fill: #FFFFFF;\n",
              "    }\n",
              "  </style>\n",
              "\n",
              "      <script>\n",
              "        const buttonEl =\n",
              "          document.querySelector('#df-94b289dd-c818-4af4-a792-71c048d507a4 button.colab-df-convert');\n",
              "        buttonEl.style.display =\n",
              "          google.colab.kernel.accessAllowed ? 'block' : 'none';\n",
              "\n",
              "        async function convertToInteractive(key) {\n",
              "          const element = document.querySelector('#df-94b289dd-c818-4af4-a792-71c048d507a4');\n",
              "          const dataTable =\n",
              "            await google.colab.kernel.invokeFunction('convertToInteractive',\n",
              "                                                     [key], {});\n",
              "          if (!dataTable) return;\n",
              "\n",
              "          const docLinkHtml = 'Like what you see? Visit the ' +\n",
              "            '<a target=\"_blank\" href=https://colab.research.google.com/notebooks/data_table.ipynb>data table notebook</a>'\n",
              "            + ' to learn more about interactive tables.';\n",
              "          element.innerHTML = '';\n",
              "          dataTable['output_type'] = 'display_data';\n",
              "          await google.colab.output.renderOutput(dataTable, element);\n",
              "          const docLink = document.createElement('div');\n",
              "          docLink.innerHTML = docLinkHtml;\n",
              "          element.appendChild(docLink);\n",
              "        }\n",
              "      </script>\n",
              "    </div>\n",
              "  </div>\n",
              "  "
            ]
          },
          "metadata": {},
          "execution_count": 10
        }
      ]
    },
    {
      "cell_type": "markdown",
      "source": [
        "## Tokenization\n",
        "\n",
        "자연어를 모델이 이해하기 위해서는 자연어를 숫자 형식으로 변환시켜야한다."
      ],
      "metadata": {
        "id": "9wcMyFlOdt_5"
      },
      "id": "9wcMyFlOdt_5"
    },
    {
      "cell_type": "code",
      "source": [
        "# 첫번째 데이터 띄어ㅆ쓰기 기준으로 나누기\n",
        "\n",
        "df['document'].iloc[0].split()"
      ],
      "metadata": {
        "id": "iVFIjht4d0cl",
        "outputId": "373744a5-2e50-494a-a428-661e18c32e29",
        "colab": {
          "base_uri": "https://localhost:8080/"
        }
      },
      "id": "iVFIjht4d0cl",
      "execution_count": 11,
      "outputs": [
        {
          "output_type": "execute_result",
          "data": {
            "text/plain": [
              "['아', '더빙..', '진짜', '짜증나네요', '목소리']"
            ]
          },
          "metadata": {},
          "execution_count": 11
        }
      ]
    },
    {
      "cell_type": "code",
      "source": [
        "vocab = set()\n",
        "for doc in df['document']:\n",
        "  for token in doc.split():\n",
        "    vocab.add(token)"
      ],
      "metadata": {
        "id": "gmyn7ZpbeBUZ"
      },
      "id": "gmyn7ZpbeBUZ",
      "execution_count": 12,
      "outputs": []
    },
    {
      "cell_type": "code",
      "source": [
        "# 너무 큰 테이블\n",
        "len(vocab)"
      ],
      "metadata": {
        "id": "XrotYTpSeMui",
        "outputId": "da6ff2aa-884b-43ac-d8c4-ae52e25699e3",
        "colab": {
          "base_uri": "https://localhost:8080/"
        }
      },
      "id": "XrotYTpSeMui",
      "execution_count": 13,
      "outputs": [
        {
          "output_type": "execute_result",
          "data": {
            "text/plain": [
              "357862"
            ]
          },
          "metadata": {},
          "execution_count": 13
        }
      ]
    },
    {
      "cell_type": "code",
      "source": [
        "# tokenization - 몇번 나오는지 체크\n",
        "vocab_cnt_dict = {}\n",
        "for doc in df['document']:\n",
        "  for token in doc.split():\n",
        "    if token not in vocab_cnt_dict:\n",
        "      vocab_cnt_dict[token] = 0\n",
        "    vocab_cnt_dict[token]+=1"
      ],
      "metadata": {
        "id": "bw8-Tqd8eNlk"
      },
      "id": "bw8-Tqd8eNlk",
      "execution_count": 14,
      "outputs": []
    },
    {
      "cell_type": "code",
      "source": [
        "# 리스트화\n",
        "vocab_cnt_list = [(token, cnt) for token, cnt in vocab_cnt_dict.items()]"
      ],
      "metadata": {
        "id": "1lUBUTpRejV7"
      },
      "id": "1lUBUTpRejV7",
      "execution_count": 15,
      "outputs": []
    },
    {
      "cell_type": "code",
      "source": [
        "vocab_cnt_list[:10]"
      ],
      "metadata": {
        "id": "hVNA5SgCerqQ",
        "outputId": "3d51f000-8e9a-4cdc-d20c-7cef96656a9d",
        "colab": {
          "base_uri": "https://localhost:8080/"
        }
      },
      "id": "hVNA5SgCerqQ",
      "execution_count": 16,
      "outputs": [
        {
          "output_type": "execute_result",
          "data": {
            "text/plain": [
              "[('아', 1204),\n",
              " ('더빙..', 2),\n",
              " ('진짜', 5929),\n",
              " ('짜증나네요', 10),\n",
              " ('목소리', 99),\n",
              " ('흠...포스터보고', 1),\n",
              " ('초딩영화줄....오버연기조차', 1),\n",
              " ('가볍지', 17),\n",
              " ('않구나', 2),\n",
              " ('너무재밓었다그래서보는것을추천한다', 1)]"
            ]
          },
          "metadata": {},
          "execution_count": 16
        }
      ]
    },
    {
      "cell_type": "code",
      "source": [
        "# 내림차순\n",
        "top_vocabs = sorted(vocab_cnt_list, key = lambda tup:tup[1], reverse = True)"
      ],
      "metadata": {
        "id": "-gDW_c58fALc"
      },
      "id": "-gDW_c58fALc",
      "execution_count": 17,
      "outputs": []
    },
    {
      "cell_type": "code",
      "source": [
        "import matplotlib.pyplot as plt\n",
        "import numpy as np"
      ],
      "metadata": {
        "id": "mogP_IV1fG0u"
      },
      "id": "mogP_IV1fG0u",
      "execution_count": 18,
      "outputs": []
    },
    {
      "cell_type": "code",
      "source": [
        "cnts = [cnt for _, cnt in top_vocabs]"
      ],
      "metadata": {
        "id": "WmtL10lxfJ4M"
      },
      "id": "WmtL10lxfJ4M",
      "execution_count": 19,
      "outputs": []
    },
    {
      "cell_type": "code",
      "source": [
        "plt.plot(range(len(cnts)),cnts)"
      ],
      "metadata": {
        "colab": {
          "base_uri": "https://localhost:8080/",
          "height": 283
        },
        "id": "0X0N3ihCfONl",
        "outputId": "25ac7478-08b5-4c67-c4bc-8ad50975c98b"
      },
      "id": "0X0N3ihCfONl",
      "execution_count": 20,
      "outputs": [
        {
          "output_type": "execute_result",
          "data": {
            "text/plain": [
              "[<matplotlib.lines.Line2D at 0x7f49a5f83cd0>]"
            ]
          },
          "metadata": {},
          "execution_count": 20
        },
        {
          "output_type": "display_data",
          "data": {
            "text/plain": [
              "<Figure size 432x288 with 1 Axes>"
            ],
            "image/png": "[encoded data removed]"
          },
          "metadata": {
            "needs_background": "light"
          }
        }
      ]
    },
    {
      "cell_type": "code",
      "source": [
        "np.mean(cnts)"
      ],
      "metadata": {
        "colab": {
          "base_uri": "https://localhost:8080/"
        },
        "id": "vgR-N3y7fXnM",
        "outputId": "444504ca-ec7d-434e-8c2e-d937eb7eb00c"
      },
      "id": "vgR-N3y7fXnM",
      "execution_count": 21,
      "outputs": [
        {
          "output_type": "execute_result",
          "data": {
            "text/plain": [
              "3.1792590439890236"
            ]
          },
          "metadata": {},
          "execution_count": 21
        }
      ]
    },
    {
      "cell_type": "code",
      "source": [
        "cnts[:10]"
      ],
      "metadata": {
        "colab": {
          "base_uri": "https://localhost:8080/"
        },
        "id": "T9VFxHJtfoxW",
        "outputId": "43cc67db-b139-49a9-a3c0-f67d5a4e1d40"
      },
      "id": "T9VFxHJtfoxW",
      "execution_count": 22,
      "outputs": [
        {
          "output_type": "execute_result",
          "data": {
            "text/plain": [
              "[10825, 8239, 7791, 5929, 5059, 3598, 3285, 3260, 3249, 3237]"
            ]
          },
          "metadata": {},
          "execution_count": 22
        }
      ]
    },
    {
      "cell_type": "code",
      "source": [
        "# 3번 이상 쓰인 vocab 수\n",
        "sum(np.array(cnts)>2)"
      ],
      "metadata": {
        "colab": {
          "base_uri": "https://localhost:8080/"
        },
        "id": "SR_5yxrWfvVU",
        "outputId": "ca87e031-9a6e-44a2-ad83-d3f01fef3cbb"
      },
      "id": "SR_5yxrWfvVU",
      "execution_count": 24,
      "outputs": [
        {
          "output_type": "execute_result",
          "data": {
            "text/plain": [
              "42635"
            ]
          },
          "metadata": {},
          "execution_count": 24
        }
      ]
    },
    {
      "cell_type": "code",
      "source": [
        "n_vocab = sum(np.array(cnts)>2)"
      ],
      "metadata": {
        "id": "6oeI1s3cf0zi"
      },
      "id": "6oeI1s3cf0zi",
      "execution_count": 25,
      "outputs": []
    },
    {
      "cell_type": "code",
      "source": [
        "top_vocabs[:5]"
      ],
      "metadata": {
        "colab": {
          "base_uri": "https://localhost:8080/"
        },
        "id": "9M9Ce_E_f6Zy",
        "outputId": "d73c1da5-aefa-4699-fd00-a4f04ece65ad"
      },
      "id": "9M9Ce_E_f6Zy",
      "execution_count": 26,
      "outputs": [
        {
          "output_type": "execute_result",
          "data": {
            "text/plain": [
              "[('영화', 10825), ('너무', 8239), ('정말', 7791), ('진짜', 5929), ('이', 5059)]"
            ]
          },
          "metadata": {},
          "execution_count": 26
        }
      ]
    },
    {
      "cell_type": "code",
      "source": [
        "top_vocabs_truncated = top_vocabs[:n_vocab]"
      ],
      "metadata": {
        "id": "M2vbHWN0f8kp"
      },
      "id": "M2vbHWN0f8kp",
      "execution_count": 27,
      "outputs": []
    },
    {
      "cell_type": "code",
      "source": [
        "vocabs = [token for token, _ in top_vocabs_truncated]"
      ],
      "metadata": {
        "id": "V59voshWgKEm"
      },
      "id": "V59voshWgKEm",
      "execution_count": 29,
      "outputs": []
    },
    {
      "cell_type": "code",
      "source": [
        "vocabs[:5]"
      ],
      "metadata": {
        "colab": {
          "base_uri": "https://localhost:8080/"
        },
        "id": "LIYfHG76gNwG",
        "outputId": "ec0f4075-ce12-4f94-eeab-06e5fd9eddb5"
      },
      "id": "LIYfHG76gNwG",
      "execution_count": 30,
      "outputs": [
        {
          "output_type": "execute_result",
          "data": {
            "text/plain": [
              "['영화', '너무', '정말', '진짜', '이']"
            ]
          },
          "metadata": {},
          "execution_count": 30
        }
      ]
    },
    {
      "cell_type": "markdown",
      "source": [
        "## PAD token UNK token!\n",
        "\n",
        "- UNK token은 Unknown token 의미\n",
        "- PAD token은 Padding을 위한 token 의미"
      ],
      "metadata": {
        "id": "Ota68HwngP_H"
      },
      "id": "Ota68HwngP_H"
    },
    {
      "cell_type": "code",
      "source": [
        "unk_token = '[UNK]'\n",
        "unk_token in vocabs"
      ],
      "metadata": {
        "colab": {
          "base_uri": "https://localhost:8080/"
        },
        "id": "uHu5QAJVgYcr",
        "outputId": "bd632e0e-857f-472a-f27e-ff24c0d426a4"
      },
      "id": "uHu5QAJVgYcr",
      "execution_count": 34,
      "outputs": [
        {
          "output_type": "execute_result",
          "data": {
            "text/plain": [
              "True"
            ]
          },
          "metadata": {},
          "execution_count": 34
        }
      ]
    },
    {
      "cell_type": "code",
      "source": [
        "pad_token = '[PAD]'\n",
        "pad_token in vocabs"
      ],
      "metadata": {
        "colab": {
          "base_uri": "https://localhost:8080/"
        },
        "id": "I2yqdiCYilRm",
        "outputId": "918cb64a-0d2d-4267-eee7-46e1ac3127a4"
      },
      "id": "I2yqdiCYilRm",
      "execution_count": 35,
      "outputs": [
        {
          "output_type": "execute_result",
          "data": {
            "text/plain": [
              "False"
            ]
          },
          "metadata": {},
          "execution_count": 35
        }
      ]
    },
    {
      "cell_type": "code",
      "source": [
        "vocabs.insert(0, unk_token)"
      ],
      "metadata": {
        "id": "5tTQBxXKipQu"
      },
      "id": "5tTQBxXKipQu",
      "execution_count": 33,
      "outputs": []
    },
    {
      "cell_type": "code",
      "source": [
        "vocabs.insert(0, pad_token)"
      ],
      "metadata": {
        "id": "63R7TMigirjL"
      },
      "id": "63R7TMigirjL",
      "execution_count": 36,
      "outputs": []
    },
    {
      "cell_type": "code",
      "source": [
        "vocabs[:5]"
      ],
      "metadata": {
        "colab": {
          "base_uri": "https://localhost:8080/"
        },
        "id": "mXu-qwgViyXJ",
        "outputId": "4913dee2-42d1-4c90-fc9f-a54ce7093992"
      },
      "id": "mXu-qwgViyXJ",
      "execution_count": 38,
      "outputs": [
        {
          "output_type": "execute_result",
          "data": {
            "text/plain": [
              "['[PAD]', '[UNK]', '영화', '너무', '정말', '진짜', '이', '영화.', '왜', '더']"
            ]
          },
          "metadata": {},
          "execution_count": 38
        }
      ]
    },
    {
      "cell_type": "code",
      "source": [
        "idx_to_token = vocabs\n",
        "token_to_idx = {token : i for i, token in enumerate(idx_to_token)}"
      ],
      "metadata": {
        "id": "rX7TczNZi8RQ"
      },
      "id": "rX7TczNZi8RQ",
      "execution_count": 39,
      "outputs": []
    },
    {
      "cell_type": "code",
      "source": [
        "class Tokenizer:\n",
        "  def __init__(self, vocabs, use_padding=True, max_padding=64, pad_token='[PAD]', unk_token='[UNK]'):\n",
        "    self.idx_to_token = vocabs\n",
        "    self.token_to_idx = {token: i for i, token in enumerate(self.idx_to_token)}\n",
        "    \n",
        "    self.use_padding = use_padding\n",
        "    self.max_padding = max_padding\n",
        "\n",
        "    self.pad_token = pad_token\n",
        "    self.unk_token = unk_token\n",
        "\n",
        "    self.unk_token_idx = self.token_to_idx[self.unk_token]\n",
        "    self.pad_token_idx = self.token_to_idx[self.pad_token]\n",
        "\n",
        "  def __call__(self, x):\n",
        "    token_ids = []\n",
        "\n",
        "    token_list = x.split() # 띄어쓰기 단위로 나뉨\n",
        "\n",
        "    for token in token_list:\n",
        "      if token in self.token_to_idx:\n",
        "        token_idx = self.token_to_idx[token]\n",
        "      else:\n",
        "        token_idx = self.unk_token_idx\n",
        "      token_ids.append(token_idx)\n",
        "\n",
        "    if self.use_padding:\n",
        "      token_ids = token_ids[:self.max_padding]\n",
        "      n_pads = self.max_padding - len(token_ids)\n",
        "      token_ids = token_ids + [self.pad_token_idx] * n_pads\n",
        "\n",
        "    return token_ids"
      ],
      "metadata": {
        "id": "DuSfCqhsjJsm"
      },
      "id": "DuSfCqhsjJsm",
      "execution_count": 42,
      "outputs": []
    },
    {
      "cell_type": "code",
      "source": [
        "tokenizer = Tokenizer(vocabs, use_padding=False)"
      ],
      "metadata": {
        "id": "2UB03Ha6k8o2"
      },
      "id": "2UB03Ha6k8o2",
      "execution_count": 43,
      "outputs": []
    },
    {
      "cell_type": "code",
      "source": [
        "sample = df['document'].iloc[0]\n",
        "print(sample)"
      ],
      "metadata": {
        "colab": {
          "base_uri": "https://localhost:8080/"
        },
        "id": "iJzVkmaKk_V1",
        "outputId": "7c91cc3f-b411-44b4-a0e0-9b945ced749d"
      },
      "id": "iJzVkmaKk_V1",
      "execution_count": 44,
      "outputs": [
        {
          "output_type": "stream",
          "name": "stdout",
          "text": [
            "아 더빙.. 진짜 짜증나네요 목소리\n"
          ]
        }
      ]
    },
    {
      "cell_type": "code",
      "source": [
        "tokenizer(sample)"
      ],
      "metadata": {
        "colab": {
          "base_uri": "https://localhost:8080/"
        },
        "id": "l3BQ88ZulEzv",
        "outputId": "fe5aa27a-aa18-464d-bd18-e37a87eadb58"
      },
      "id": "l3BQ88ZulEzv",
      "execution_count": 45,
      "outputs": [
        {
          "output_type": "execute_result",
          "data": {
            "text/plain": [
              "[51, 1, 5, 10485, 1064]"
            ]
          },
          "metadata": {},
          "execution_count": 45
        }
      ]
    },
    {
      "cell_type": "code",
      "source": [
        "token_length_list = []\n",
        "for sample in df['document']:\n",
        "  token_length_list.append(len(tokenizer(sample)))"
      ],
      "metadata": {
        "id": "26S2P3I5lIj1"
      },
      "id": "26S2P3I5lIj1",
      "execution_count": 46,
      "outputs": []
    },
    {
      "cell_type": "code",
      "source": [
        "plt.hist(token_length_list)\n",
        "plt.xlabel(\"token length\")\n",
        "plt.ylabel(\"count\")"
      ],
      "metadata": {
        "colab": {
          "base_uri": "https://localhost:8080/",
          "height": 297
        },
        "id": "VZygV8MVlOpB",
        "outputId": "b548012d-c47a-453b-b65d-5bbaad51992e"
      },
      "id": "VZygV8MVlOpB",
      "execution_count": 47,
      "outputs": [
        {
          "output_type": "execute_result",
          "data": {
            "text/plain": [
              "Text(0, 0.5, 'count')"
            ]
          },
          "metadata": {},
          "execution_count": 47
        },
        {
          "output_type": "display_data",
          "data": {
            "text/plain": [
              "<Figure size 432x288 with 1 Axes>"
            ],
            "image/png": "[encoded data removed]"
          },
          "metadata": {
            "needs_background": "light"
          }
        }
      ]
    },
    {
      "cell_type": "code",
      "source": [
        "max(token_length_list)"
      ],
      "metadata": {
        "colab": {
          "base_uri": "https://localhost:8080/"
        },
        "id": "SJFeW4UplVXu",
        "outputId": "90b4c110-dfb9-4bcd-f413-36108d8f5d4f"
      },
      "id": "SJFeW4UplVXu",
      "execution_count": 48,
      "outputs": [
        {
          "output_type": "execute_result",
          "data": {
            "text/plain": [
              "41"
            ]
          },
          "metadata": {},
          "execution_count": 48
        }
      ]
    },
    {
      "cell_type": "code",
      "source": [
        "tokenizer = Tokenizer(vocabs, use_padding=True, max_padding=50, pad_token='[PAD]', unk_token='[UNK]')"
      ],
      "metadata": {
        "id": "92J-2sUVlXnn"
      },
      "id": "92J-2sUVlXnn",
      "execution_count": 50,
      "outputs": []
    },
    {
      "cell_type": "code",
      "source": [
        "tokenizer(sample)"
      ],
      "metadata": {
        "colab": {
          "base_uri": "https://localhost:8080/"
        },
        "id": "Ieh-fLxvlh_P",
        "outputId": "ce96aeeb-ae1b-4681-91e7-0922b6929eef"
      },
      "id": "Ieh-fLxvlh_P",
      "execution_count": 51,
      "outputs": [
        {
          "output_type": "execute_result",
          "data": {
            "text/plain": [
              "[201,\n",
              " 2,\n",
              " 3635,\n",
              " 1,\n",
              " 121,\n",
              " 1946,\n",
              " 2,\n",
              " 0,\n",
              " 0,\n",
              " 0,\n",
              " 0,\n",
              " 0,\n",
              " 0,\n",
              " 0,\n",
              " 0,\n",
              " 0,\n",
              " 0,\n",
              " 0,\n",
              " 0,\n",
              " 0,\n",
              " 0,\n",
              " 0,\n",
              " 0,\n",
              " 0,\n",
              " 0,\n",
              " 0,\n",
              " 0,\n",
              " 0,\n",
              " 0,\n",
              " 0,\n",
              " 0,\n",
              " 0,\n",
              " 0,\n",
              " 0,\n",
              " 0,\n",
              " 0,\n",
              " 0,\n",
              " 0,\n",
              " 0,\n",
              " 0,\n",
              " 0,\n",
              " 0,\n",
              " 0,\n",
              " 0,\n",
              " 0,\n",
              " 0,\n",
              " 0,\n",
              " 0,\n",
              " 0,\n",
              " 0]"
            ]
          },
          "metadata": {},
          "execution_count": 51
        }
      ]
    },
    {
      "cell_type": "markdown",
      "source": [
        "## DataLoader"
      ],
      "metadata": {
        "id": "4xbwCuyslueY"
      },
      "id": "4xbwCuyslueY"
    },
    {
      "cell_type": "code",
      "source": [
        "import torch\n",
        "from torch.utils.data import Dataset, DataLoader"
      ],
      "metadata": {
        "id": "K5otnBcpltvR"
      },
      "id": "K5otnBcpltvR",
      "execution_count": 52,
      "outputs": []
    },
    {
      "cell_type": "code",
      "source": [
        "train_valid_df = pd.read_csv(f\"{base_path}/data/nsmc/ratings_train.txt\", sep = '\\t')\n",
        "test_df = pd.read_csv(f\"{base_path}/data/nsmc/ratings_test.txt\", sep = '\\t')"
      ],
      "metadata": {
        "id": "MD-FUbpJmMWj"
      },
      "id": "MD-FUbpJmMWj",
      "execution_count": 54,
      "outputs": []
    },
    {
      "cell_type": "code",
      "source": [
        "print(len(train_valid_df))\n",
        "print(len(test_df))"
      ],
      "metadata": {
        "colab": {
          "base_uri": "https://localhost:8080/"
        },
        "id": "bM_xjkzsmbZq",
        "outputId": "1f9437f5-b93e-4c01-e2b3-614b9c74ee78"
      },
      "id": "bM_xjkzsmbZq",
      "execution_count": 56,
      "outputs": [
        {
          "output_type": "stream",
          "name": "stdout",
          "text": [
            "150000\n",
            "50000\n"
          ]
        }
      ]
    },
    {
      "cell_type": "code",
      "source": [
        "# shuffle 해주기\n",
        "train_valid_df = train_valid_df.sample(frac=1.)"
      ],
      "metadata": {
        "id": "xm2e1G0Fm0qf"
      },
      "id": "xm2e1G0Fm0qf",
      "execution_count": 59,
      "outputs": []
    },
    {
      "cell_type": "code",
      "source": [
        "train_ratio = 0.8\n",
        "\n",
        "n_train = int(len(train_valid_df) * train_ratio)\n",
        "\n",
        "train_df = train_valid_df[:n_train]\n",
        "valid_df = train_valid_df[n_train:]"
      ],
      "metadata": {
        "id": "dmTEr3Fpmh-k"
      },
      "id": "dmTEr3Fpmh-k",
      "execution_count": 60,
      "outputs": []
    },
    {
      "cell_type": "code",
      "source": [
        "print(len(train_df))\n",
        "print(len(valid_df))"
      ],
      "metadata": {
        "colab": {
          "base_uri": "https://localhost:8080/"
        },
        "id": "xC6sjEr9mtZW",
        "outputId": "72f8b9a3-baa1-403d-8452-c18377aa126d"
      },
      "id": "xC6sjEr9mtZW",
      "execution_count": 61,
      "outputs": [
        {
          "output_type": "stream",
          "name": "stdout",
          "text": [
            "120000\n",
            "30000\n"
          ]
        }
      ]
    },
    {
      "cell_type": "code",
      "source": [
        "#  1/10로 샘플링\n",
        "\n",
        "train_df = train_df.sample(frac=0.1)\n",
        "valid_df = valid_df.sample(frac=0.1)\n",
        "test_df = test_df.sample(frac=0.1)"
      ],
      "metadata": {
        "id": "ccO7ojBamwyF"
      },
      "id": "ccO7ojBamwyF",
      "execution_count": 62,
      "outputs": []
    },
    {
      "cell_type": "code",
      "source": [
        "class NSMCDataset(Dataset):\n",
        "  "
      ],
      "metadata": {
        "id": "a4siu8isnK4N"
      },
      "id": "a4siu8isnK4N",
      "execution_count": null,
      "outputs": []
    }
  ],
  "metadata": {
    "kernelspec": {
      "display_name": "Python 3 (ipykernel)",
      "language": "python",
      "name": "python3"
    },
    "language_info": {
      "codemirror_mode": {
        "name": "ipython",
        "version": 3
      },
      "file_extension": ".py",
      "mimetype": "text/x-python",
      "name": "python",
      "nbconvert_exporter": "python",
      "pygments_lexer": "ipython3",
      "version": "3.8.11"
    },
    "colab": {
      "provenance": []
    }
  },
  "nbformat": 4,
  "nbformat_minor": 5
}